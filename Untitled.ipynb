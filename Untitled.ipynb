{
 "cells": [
  {
   "cell_type": "code",
   "execution_count": 26,
   "id": "56998b47-d9f8-4c4c-9835-fde67be4d41c",
   "metadata": {},
   "outputs": [
    {
     "data": {
      "text/html": [
       "<div><style>\n",
       ".dataframe > thead > tr > th,\n",
       ".dataframe > tbody > tr > td {\n",
       "  text-align: right;\n",
       "  white-space: pre-wrap;\n",
       "}\n",
       "</style>\n",
       "<small>shape: (3_102, 4)</small><table border=\"1\" class=\"dataframe\"><thead><tr><th>Institution</th><th>Category</th><th>Area</th><th>Value</th></tr><tr><td>str</td><td>str</td><td>str</td><td>i64</td></tr></thead><tbody><tr><td>&quot;Arizona State …</td><td>&quot;Metaphysics &amp; …</td><td>&quot;Philosophy of …</td><td>null</td></tr><tr><td>&quot;Arizona State …</td><td>&quot;Metaphysics &amp; …</td><td>&quot;Philosophy of …</td><td>null</td></tr><tr><td>&quot;Arizona State …</td><td>&quot;Metaphysics &amp; …</td><td>&quot;Metaphysics&quot;</td><td>null</td></tr><tr><td>&quot;Arizona State …</td><td>&quot;Metaphysics &amp; …</td><td>&quot;Epistemology (…</td><td>null</td></tr><tr><td>&quot;Arizona State …</td><td>&quot;Metaphysics &amp; …</td><td>&quot;Philosophical …</td><td>null</td></tr><tr><td>&quot;Arizona State …</td><td>&quot;Metaphysics &amp; …</td><td>&quot;Philosophy of …</td><td>null</td></tr><tr><td>&quot;Arizona State …</td><td>&quot;Metaphysics &amp; …</td><td>&quot;Philosophy of …</td><td>null</td></tr><tr><td>&quot;Arizona State …</td><td>&quot;Philosophy of …</td><td>&quot;General Philos…</td><td>null</td></tr><tr><td>&quot;Arizona State …</td><td>&quot;Philosophy of …</td><td>&quot;Philosophy of …</td><td>null</td></tr><tr><td>&quot;Arizona State …</td><td>&quot;Philosophy of …</td><td>&quot;Philosophy of …</td><td>null</td></tr><tr><td>&quot;Arizona State …</td><td>&quot;Philosophy of …</td><td>&quot;Philosophy of …</td><td>null</td></tr><tr><td>&quot;Arizona State …</td><td>&quot;Philosophy of …</td><td>&quot;Philosophy of …</td><td>null</td></tr><tr><td>&hellip;</td><td>&hellip;</td><td>&hellip;</td><td>&hellip;</td></tr><tr><td>&quot;York Universit…</td><td>&quot;History of Phi…</td><td>&quot;Acnient Philos…</td><td>null</td></tr><tr><td>&quot;York Universit…</td><td>&quot;History of Phi…</td><td>&quot;Medieval Philo…</td><td>null</td></tr><tr><td>&quot;York Universit…</td><td>&quot;History of Phi…</td><td>&quot;Early Modern: …</td><td>null</td></tr><tr><td>&quot;York Universit…</td><td>&quot;History of Phi…</td><td>&quot;Early Modern: …</td><td>null</td></tr><tr><td>&quot;York Universit…</td><td>&quot;History of Phi…</td><td>&quot;Kant&quot;</td><td>null</td></tr><tr><td>&quot;York Universit…</td><td>&quot;History of Phi…</td><td>&quot;19th Century C…</td><td>null</td></tr><tr><td>&quot;York Universit…</td><td>&quot;History of Phi…</td><td>&quot;20th Century C…</td><td>null</td></tr><tr><td>&quot;York Universit…</td><td>&quot;History of Phi…</td><td>&quot;History of Ana…</td><td>null</td></tr><tr><td>&quot;York Universit…</td><td>&quot;History of Phi…</td><td>&quot;American Pragm…</td><td>1</td></tr><tr><td>&quot;York Universit…</td><td>&quot;Other Areas&quot;</td><td>&quot;Feminist Philo…</td><td>null</td></tr><tr><td>&quot;York Universit…</td><td>&quot;Other Areas&quot;</td><td>&quot;Chinese Philos…</td><td>null</td></tr><tr><td>&quot;York Universit…</td><td>&quot;Other Areas&quot;</td><td>&quot;Philosophy of …</td><td>null</td></tr></tbody></table></div>"
      ],
      "text/plain": [
       "shape: (3_102, 4)\n",
       "┌──────────────────────────┬────────────────────────────┬────────────────────────────┬───────┐\n",
       "│ Institution              ┆ Category                   ┆ Area                       ┆ Value │\n",
       "│ ---                      ┆ ---                        ┆ ---                        ┆ ---   │\n",
       "│ str                      ┆ str                        ┆ str                        ┆ i64   │\n",
       "╞══════════════════════════╪════════════════════════════╪════════════════════════════╪═══════╡\n",
       "│ Arizona State University ┆ Metaphysics & Epistemology ┆ Philosophy of Language     ┆ null  │\n",
       "│ Arizona State University ┆ Metaphysics & Epistemology ┆ Philosophy of Mind         ┆ null  │\n",
       "│ Arizona State University ┆ Metaphysics & Epistemology ┆ Metaphysics                ┆ null  │\n",
       "│ Arizona State University ┆ Metaphysics & Epistemology ┆ Epistemology (incl. formal ┆ null  │\n",
       "│                          ┆                            ┆ epist…                     ┆       │\n",
       "│ …                        ┆ …                          ┆ …                          ┆ …     │\n",
       "│ York University, Toronto ┆ History of Philosophy      ┆ American Pragmatism        ┆ 1     │\n",
       "│ York University, Toronto ┆ Other Areas                ┆ Feminist Philosophy        ┆ null  │\n",
       "│ York University, Toronto ┆ Other Areas                ┆ Chinese Philosophy         ┆ null  │\n",
       "│ York University, Toronto ┆ Other Areas                ┆ Philosophy of Race         ┆ null  │\n",
       "└──────────────────────────┴────────────────────────────┴────────────────────────────┴───────┘"
      ]
     },
     "execution_count": 26,
     "metadata": {},
     "output_type": "execute_result"
    }
   ],
   "source": [
    "import polars as pl\n",
    "\n",
    "raw_data = pl.read_csv(\"phil_gourmet.tsv\", separator='\\t')\n",
    "raw_data"
   ]
  },
  {
   "cell_type": "code",
   "execution_count": 29,
   "id": "065b77a1-e0f1-4a47-9219-6d687996ec8a",
   "metadata": {},
   "outputs": [],
   "source": [
    "areas = [\n",
    "    \"Philosophy of Mind\",\n",
    "    \"General Philosophy of Science\",\n",
    "    \"Philosophy of Mathematics\",\n",
    "    \"Mathematical Logic\",\n",
    "    \"Philosophy of Art\",\n",
    "    \"20th Century Continental\",\n",
    "    \"Feminist Philosophy\",\n",
    "    \"Chinese Philosophy\"\n",
    "]\n",
    "\n",
    "def do_map(x):\n",
    "    return x.filter(pl.col(\"Area\").is_in(areas))\n",
    "\n",
    "#list(map(do_map, raw_data.partition_by(\"Institution\")))"
   ]
  },
  {
   "cell_type": "code",
   "execution_count": 33,
   "id": "402f6fa3",
   "metadata": {},
   "outputs": [],
   "source": [
    "filtered_data = do_map(raw_data).with_columns(pl.col(\"Value\").fill_null(pl.lit(10)))"
   ]
  },
  {
   "cell_type": "code",
   "execution_count": 37,
   "id": "422f376c",
   "metadata": {},
   "outputs": [
    {
     "data": {
      "application/vnd.jupyter.widget-view+json": {
       "model_id": "ee35a169ff7f4c7aa07acaeabded989f",
       "version_major": 2,
       "version_minor": 0
      },
      "text/plain": [
       "PerspectiveWidget(aggregates={'Institution': 'any', 'Area': 'any'}, columns=['Value'], group_by=['Area'], plug…"
      ]
     },
     "execution_count": 37,
     "metadata": {},
     "output_type": "execute_result"
    }
   ],
   "source": [
    "import perspective as psp\n",
    "\n",
    "table = psp.Table(filtered_data.to_pandas())\n",
    "widget = psp.PerspectiveWidget(table)\n",
    "widget.restore(\n",
    "        plugin = \"Datagrid\",\n",
    "    plugin_config = {\n",
    "        \"columns\": {\n",
    "            \"Value\": {\n",
    "                \"bg_gradient\": 10,\n",
    "                \"neg_bg_color\": \"#ffa38f\",\n",
    "                \"number_bg_mode\": \"gradient\",\n",
    "                \"number_fg_mode\": \"disabled\",\n",
    "                \"pos_bg_color\": \"#14507b\",\n",
    "            },\n",
    "        },\n",
    "        \"editable\": False,\n",
    "        \"scroll_lock\": False,\n",
    "    },\n",
    "    group_by = [\"Area\"],\n",
    "    split_by = [\"Institution\"],\n",
    "    columns = [\"Value\"],\n",
    "    filter = [],\n",
    "    sort = [[\"Value\", \"col asc\"]],\n",
    "    aggregates = {\"Institution\": \"any\", \"Area\": \"any\"},\n",
    "\n",
    ")\n",
    "widget"
   ]
  },
  {
   "cell_type": "code",
   "execution_count": null,
   "id": "81b62a54-e187-43a7-a398-a4c6351a3f05",
   "metadata": {},
   "outputs": [],
   "source": []
  }
 ],
 "metadata": {
  "kernelspec": {
   "display_name": "Python 3 (ipykernel)",
   "language": "python",
   "name": "python3"
  },
  "language_info": {
   "codemirror_mode": {
    "name": "ipython",
    "version": 3
   },
   "file_extension": ".py",
   "mimetype": "text/x-python",
   "name": "python",
   "nbconvert_exporter": "python",
   "pygments_lexer": "ipython3",
   "version": "3.11.5"
  }
 },
 "nbformat": 4,
 "nbformat_minor": 5
}
