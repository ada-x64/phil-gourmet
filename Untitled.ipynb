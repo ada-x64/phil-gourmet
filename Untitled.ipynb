{
 "cells": [
  {
   "cell_type": "code",
   "execution_count": 1,
   "id": "56998b47-d9f8-4c4c-9835-fde67be4d41c",
   "metadata": {},
   "outputs": [
    {
     "data": {
      "text/html": [
       "<div><style>\n",
       ".dataframe > thead > tr > th,\n",
       ".dataframe > tbody > tr > td {\n",
       "  text-align: right;\n",
       "  white-space: pre-wrap;\n",
       "}\n",
       "</style>\n",
       "<small>shape: (3_102, 4)</small><table border=\"1\" class=\"dataframe\"><thead><tr><th>Institution</th><th>Category</th><th>Area</th><th>Value</th></tr><tr><td>str</td><td>str</td><td>str</td><td>i64</td></tr></thead><tbody><tr><td>&quot;Arizona State …</td><td>&quot;Metaphysics &amp; …</td><td>&quot;Philosophy of …</td><td>null</td></tr><tr><td>&quot;Arizona State …</td><td>&quot;Metaphysics &amp; …</td><td>&quot;Philosophy of …</td><td>null</td></tr><tr><td>&quot;Arizona State …</td><td>&quot;Metaphysics &amp; …</td><td>&quot;Metaphysics&quot;</td><td>null</td></tr><tr><td>&quot;Arizona State …</td><td>&quot;Metaphysics &amp; …</td><td>&quot;Epistemology (…</td><td>null</td></tr><tr><td>&quot;Arizona State …</td><td>&quot;Metaphysics &amp; …</td><td>&quot;Philosophical …</td><td>null</td></tr><tr><td>&quot;Arizona State …</td><td>&quot;Metaphysics &amp; …</td><td>&quot;Philosophy of …</td><td>null</td></tr><tr><td>&quot;Arizona State …</td><td>&quot;Metaphysics &amp; …</td><td>&quot;Philosophy of …</td><td>null</td></tr><tr><td>&quot;Arizona State …</td><td>&quot;Philosophy of …</td><td>&quot;General Philos…</td><td>null</td></tr><tr><td>&quot;Arizona State …</td><td>&quot;Philosophy of …</td><td>&quot;Philosophy of …</td><td>null</td></tr><tr><td>&quot;Arizona State …</td><td>&quot;Philosophy of …</td><td>&quot;Philosophy of …</td><td>null</td></tr><tr><td>&quot;Arizona State …</td><td>&quot;Philosophy of …</td><td>&quot;Philosophy of …</td><td>null</td></tr><tr><td>&quot;Arizona State …</td><td>&quot;Philosophy of …</td><td>&quot;Philosophy of …</td><td>null</td></tr><tr><td>&hellip;</td><td>&hellip;</td><td>&hellip;</td><td>&hellip;</td></tr><tr><td>&quot;York Universit…</td><td>&quot;History of Phi…</td><td>&quot;Acnient Philos…</td><td>null</td></tr><tr><td>&quot;York Universit…</td><td>&quot;History of Phi…</td><td>&quot;Medieval Philo…</td><td>null</td></tr><tr><td>&quot;York Universit…</td><td>&quot;History of Phi…</td><td>&quot;Early Modern: …</td><td>null</td></tr><tr><td>&quot;York Universit…</td><td>&quot;History of Phi…</td><td>&quot;Early Modern: …</td><td>null</td></tr><tr><td>&quot;York Universit…</td><td>&quot;History of Phi…</td><td>&quot;Kant&quot;</td><td>null</td></tr><tr><td>&quot;York Universit…</td><td>&quot;History of Phi…</td><td>&quot;19th Century C…</td><td>null</td></tr><tr><td>&quot;York Universit…</td><td>&quot;History of Phi…</td><td>&quot;20th Century C…</td><td>null</td></tr><tr><td>&quot;York Universit…</td><td>&quot;History of Phi…</td><td>&quot;History of Ana…</td><td>null</td></tr><tr><td>&quot;York Universit…</td><td>&quot;History of Phi…</td><td>&quot;American Pragm…</td><td>1</td></tr><tr><td>&quot;York Universit…</td><td>&quot;Other Areas&quot;</td><td>&quot;Feminist Philo…</td><td>null</td></tr><tr><td>&quot;York Universit…</td><td>&quot;Other Areas&quot;</td><td>&quot;Chinese Philos…</td><td>null</td></tr><tr><td>&quot;York Universit…</td><td>&quot;Other Areas&quot;</td><td>&quot;Philosophy of …</td><td>null</td></tr></tbody></table></div>"
      ],
      "text/plain": [
       "shape: (3_102, 4)\n",
       "┌──────────────────────────┬────────────────────────────┬────────────────────────────┬───────┐\n",
       "│ Institution              ┆ Category                   ┆ Area                       ┆ Value │\n",
       "│ ---                      ┆ ---                        ┆ ---                        ┆ ---   │\n",
       "│ str                      ┆ str                        ┆ str                        ┆ i64   │\n",
       "╞══════════════════════════╪════════════════════════════╪════════════════════════════╪═══════╡\n",
       "│ Arizona State University ┆ Metaphysics & Epistemology ┆ Philosophy of Language     ┆ null  │\n",
       "│ Arizona State University ┆ Metaphysics & Epistemology ┆ Philosophy of Mind         ┆ null  │\n",
       "│ Arizona State University ┆ Metaphysics & Epistemology ┆ Metaphysics                ┆ null  │\n",
       "│ Arizona State University ┆ Metaphysics & Epistemology ┆ Epistemology (incl. formal ┆ null  │\n",
       "│                          ┆                            ┆ epist…                     ┆       │\n",
       "│ …                        ┆ …                          ┆ …                          ┆ …     │\n",
       "│ York University, Toronto ┆ History of Philosophy      ┆ American Pragmatism        ┆ 1     │\n",
       "│ York University, Toronto ┆ Other Areas                ┆ Feminist Philosophy        ┆ null  │\n",
       "│ York University, Toronto ┆ Other Areas                ┆ Chinese Philosophy         ┆ null  │\n",
       "│ York University, Toronto ┆ Other Areas                ┆ Philosophy of Race         ┆ null  │\n",
       "└──────────────────────────┴────────────────────────────┴────────────────────────────┴───────┘"
      ]
     },
     "execution_count": 1,
     "metadata": {},
     "output_type": "execute_result"
    }
   ],
   "source": [
    "import polars as pl\n",
    "\n",
    "raw_data = pl.read_csv(\"phil_gourmet.tsv\", separator='\\t')\n",
    "raw_data"
   ]
  },
  {
   "cell_type": "code",
   "execution_count": 27,
   "id": "559476fb-2b1b-46cd-b8d2-751529a74e7a",
   "metadata": {},
   "outputs": [
    {
     "data": {
      "text/plain": [
       "array([['American Pragmatism', None, None, 10],\n",
       "       ['Political Philosophy', None, None, 151],\n",
       "       ['Philosophy of Mathematics', None, None, 135],\n",
       "       ['Philosophy of Law', None, None, 47],\n",
       "       ['Philosophy of Social Sciences', None, None, 50],\n",
       "       ['Decision, Rational Choice, & Game Theory', None, None, 84],\n",
       "       ['Philosophical Logic', None, None, 131],\n",
       "       ['Mathematical Logic', None, None, 76],\n",
       "       ['History of Analytic', None, None, 108],\n",
       "       ['Philosophy of Mind', None, None, 147],\n",
       "       ['Philosophy of Action', None, None, 79],\n",
       "       ['Philosophy of Cognitive Science', None, None, 108],\n",
       "       ['Applied Ethics', None, None, 180],\n",
       "       ['Acnient Philosophy', None, None, 57],\n",
       "       ['Philosophy of Physics', None, None, 69],\n",
       "       ['Epistemology (incl. formal epistemology)', None, None, 165],\n",
       "       ['Early Modern: 17th Century', None, None, 141],\n",
       "       ['Feminist Philosophy', None, None, 41],\n",
       "       ['Kant', None, None, 78],\n",
       "       ['Philosophy of Art', None, None, 31],\n",
       "       ['Philosophy of Race', None, None, 24],\n",
       "       ['Chinese Philosophy', None, None, 15],\n",
       "       ['20th Century Continental', None, None, 47],\n",
       "       ['Early Modern: 18th Century', None, None, 152],\n",
       "       ['19th Century Continental', None, None, 81],\n",
       "       ['Philosophy of Language', None, None, 159],\n",
       "       ['Philosophy of Religion', None, None, 42],\n",
       "       ['Metaphysics', None, None, 132],\n",
       "       ['General Philosophy of Science', None, None, 163],\n",
       "       ['Medieval Philosophy', None, None, 16],\n",
       "       ['Metaethics & Moral Psychology', None, None, 171],\n",
       "       ['Philosophy of Biology', None, None, 62],\n",
       "       ['Normative Ethics', None, None, 190]], dtype=object)"
      ]
     },
     "execution_count": 27,
     "metadata": {},
     "output_type": "execute_result"
    }
   ],
   "source": [
    "raw_data.group_by(by=[\"Area\"]).sum().to_numpy()"
   ]
  },
  {
   "cell_type": "code",
   "execution_count": 28,
   "id": "065b77a1-e0f1-4a47-9219-6d687996ec8a",
   "metadata": {},
   "outputs": [],
   "source": [
    "def do_map(x, areas):\n",
    "    return x.filter(pl.col(\"Area\").is_in(areas)).with_columns(pl.col(\"Value\").fill_null(pl.lit(100)))"
   ]
  },
  {
   "cell_type": "code",
   "execution_count": 29,
   "id": "402f6fa3",
   "metadata": {},
   "outputs": [],
   "source": [
    "filtered_data = do_map(raw_data, [\n",
    "    \"Philosophy of Mind\",\n",
    "    \"General Philosophy of Science\",\n",
    "    \"Philosophy of Art\",\n",
    "    \"20th Century Continental\",\n",
    "    \"Feminist Philosophy\",\n",
    "    \"Chinese Philosophy\",\n",
    "    \"Philosophy of Social Sciences\",\n",
    "    \"Metaphysics\",\n",
    "    \"American Pragmatism\",\n",
    "])\n",
    "filtered_data2 = do_map(raw_data,  [\n",
    "    \"Philosophy of Mind\",\n",
    "    \"Philosophy of Art\",\n",
    "    \"Chinese Philosophy\",\n",
    "    \"Philosophy of Social Sciences\"\n",
    "])\n",
    "filtered_data3 = do_map(raw_data, [\n",
    "    \"Philosophy of Mind\",\n",
    "    \"Philosophy of Art\",\n",
    "    \"Chinese Philosophy\",\n",
    "    \"General Philosophy of Science\"\n",
    "])"
   ]
  },
  {
   "cell_type": "code",
   "execution_count": 13,
   "id": "422f376c",
   "metadata": {},
   "outputs": [
    {
     "data": {
      "application/vnd.jupyter.widget-view+json": {
       "model_id": "fb37c45abd9349058b73d45960eb6b11",
       "version_major": 2,
       "version_minor": 0
      },
      "text/plain": [
       "PerspectiveWidget(aggregates={'Institution': 'any', 'Area': 'any'}, columns=['Value'], group_by=['Institution'…"
      ]
     },
     "execution_count": 13,
     "metadata": {},
     "output_type": "execute_result"
    }
   ],
   "source": [
    "import perspective as psp\n",
    "\n",
    "table = psp.Table(filtered_data.to_pandas())\n",
    "widget = psp.PerspectiveWidget(table)\n",
    "widget.restore(\n",
    "        plugin = \"Datagrid\",\n",
    "    plugin_config = {\n",
    "        \"columns\": {\n",
    "            \"Value\": {\n",
    "                \"bg_gradient\": 10,\n",
    "                \"neg_bg_color\": \"#ffa38f\",\n",
    "                \"number_bg_mode\": \"gradient\",\n",
    "                \"number_fg_mode\": \"disabled\",\n",
    "                \"pos_bg_color\": \"#14507b\",\n",
    "            },\n",
    "        },\n",
    "        \"editable\": False,\n",
    "        \"scroll_lock\": False,\n",
    "    },\n",
    "    split_by = [\"Area\"],\n",
    "    group_by = [\"Institution\"],\n",
    "    columns = [\"Value\"],\n",
    "    filter = [],\n",
    "    sort = [[\"Value\", \"col asc\"]],\n",
    "    aggregates = {\"Institution\": \"any\", \"Area\": \"any\"},\n",
    "\n",
    ")\n",
    "widget"
   ]
  },
  {
   "cell_type": "code",
   "execution_count": 18,
   "id": "81b62a54-e187-43a7-a398-a4c6351a3f05",
   "metadata": {},
   "outputs": [
    {
     "data": {
      "application/vnd.jupyter.widget-view+json": {
       "model_id": "65012f1adcaa4b23888de5d8b7abf5dc",
       "version_major": 2,
       "version_minor": 0
      },
      "text/plain": [
       "PerspectiveWidget(columns=['index', 'Institution', 'Category', 'Area', 'Value'], theme=None)"
      ]
     },
     "execution_count": 18,
     "metadata": {},
     "output_type": "execute_result"
    }
   ],
   "source": [
    "psp.PerspectiveWidget(filtered_data2.to_pandas())"
   ]
  },
  {
   "cell_type": "code",
   "execution_count": 30,
   "id": "23c09f2a-76bd-401b-b1b8-609e3c0dbd4f",
   "metadata": {},
   "outputs": [
    {
     "data": {
      "application/vnd.jupyter.widget-view+json": {
       "model_id": "eaca58b43855491ca1f7bba70f319bd1",
       "version_major": 2,
       "version_minor": 0
      },
      "text/plain": [
       "PerspectiveWidget(columns=['index', 'Institution', 'Category', 'Area', 'Value'], theme=None)"
      ]
     },
     "execution_count": 30,
     "metadata": {},
     "output_type": "execute_result"
    }
   ],
   "source": [
    "psp.PerspectiveWidget(filtered_data3.to_pandas())"
   ]
  },
  {
   "cell_type": "code",
   "execution_count": null,
   "id": "25181587-d640-4d14-a2b3-04c7e1e1878b",
   "metadata": {},
   "outputs": [],
   "source": []
  }
 ],
 "metadata": {
  "kernelspec": {
   "display_name": "Python 3 (ipykernel)",
   "language": "python",
   "name": "python3"
  },
  "language_info": {
   "codemirror_mode": {
    "name": "ipython",
    "version": 3
   },
   "file_extension": ".py",
   "mimetype": "text/x-python",
   "name": "python",
   "nbconvert_exporter": "python",
   "pygments_lexer": "ipython3",
   "version": "3.11.2"
  }
 },
 "nbformat": 4,
 "nbformat_minor": 5
}
